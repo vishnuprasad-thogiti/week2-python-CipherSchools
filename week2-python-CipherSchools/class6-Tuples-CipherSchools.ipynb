{
 "cells": [
  {
   "cell_type": "markdown",
   "id": "aa09d755",
   "metadata": {},
   "source": [
    "# tuples"
   ]
  },
  {
   "cell_type": "code",
   "execution_count": 1,
   "id": "6f598fe3",
   "metadata": {},
   "outputs": [
    {
     "data": {
      "text/plain": [
       "[100, 2, 200]"
      ]
     },
     "execution_count": 1,
     "metadata": {},
     "output_type": "execute_result"
    }
   ],
   "source": [
    "a = [1, 2, 3]\n",
    "a[0] = 100\n",
    "a[2] = 200\n",
    "a"
   ]
  },
  {
   "cell_type": "code",
   "execution_count": 2,
   "id": "2d68d728",
   "metadata": {},
   "outputs": [
    {
     "data": {
      "text/plain": [
       "tuple"
      ]
     },
     "execution_count": 2,
     "metadata": {},
     "output_type": "execute_result"
    }
   ],
   "source": [
    "a = (1, 2, 3, 4)\n",
    "type(a)"
   ]
  },
  {
   "cell_type": "code",
   "execution_count": 3,
   "id": "76d43191",
   "metadata": {},
   "outputs": [],
   "source": [
    "def func(*args):\n",
    "  print(type(args))"
   ]
  },
  {
   "cell_type": "code",
   "execution_count": 4,
   "id": "87946a30",
   "metadata": {},
   "outputs": [
    {
     "data": {
      "text/plain": [
       "tuple"
      ]
     },
     "execution_count": 4,
     "metadata": {},
     "output_type": "execute_result"
    }
   ],
   "source": [
    "def sum_diff(a, b):\n",
    "  s = a+b\n",
    "  d = a-b\n",
    "\n",
    "  return (s, d)\n",
    "c = sum_diff(10, 5)\n",
    "type(c)"
   ]
  },
  {
   "cell_type": "code",
   "execution_count": 7,
   "id": "55a152eb",
   "metadata": {},
   "outputs": [
    {
     "data": {
      "text/plain": [
       "[1, 2, 3, 4]"
      ]
     },
     "execution_count": 7,
     "metadata": {},
     "output_type": "execute_result"
    }
   ],
   "source": [
    "a = (1, 2, 3, 4)\n",
    "list(a)"
   ]
  },
  {
   "cell_type": "raw",
   "id": "c1166225",
   "metadata": {},
   "source": [
    "# dictionaries\n",
    "'''\n",
    "a = [1, 2, 3, 4, 5]\n",
    "a[0]\n",
    "'''\n",
    "\n",
    "a = dict()\n",
    "a[\"name\"]\n",
    "a[1]\n",
    "a[(1, 2)]"
   ]
  },
  {
   "cell_type": "code",
   "execution_count": 8,
   "id": "adad3ecd",
   "metadata": {},
   "outputs": [],
   "source": [
    "a = {\n",
    "    \"name\": \"king\"\n",
    "}\n",
    "a[\"name\"] = \"kong\""
   ]
  },
  {
   "cell_type": "code",
   "execution_count": 9,
   "id": "b1fe9b7e",
   "metadata": {},
   "outputs": [
    {
     "name": "stdout",
     "output_type": "stream",
     "text": [
      "key does not exist\n"
     ]
    }
   ],
   "source": [
    "key = \"marks\"\n",
    "if key in a:\n",
    "  print(a[key])\n",
    "else:\n",
    "  print(\"key does not exist\")"
   ]
  },
  {
   "cell_type": "code",
   "execution_count": null,
   "id": "bf5f852b",
   "metadata": {},
   "outputs": [],
   "source": []
  }
 ],
 "metadata": {
  "kernelspec": {
   "display_name": "Python 3 (ipykernel)",
   "language": "python",
   "name": "python3"
  },
  "language_info": {
   "codemirror_mode": {
    "name": "ipython",
    "version": 3
   },
   "file_extension": ".py",
   "mimetype": "text/x-python",
   "name": "python",
   "nbconvert_exporter": "python",
   "pygments_lexer": "ipython3",
   "version": "3.10.7"
  }
 },
 "nbformat": 4,
 "nbformat_minor": 5
}
