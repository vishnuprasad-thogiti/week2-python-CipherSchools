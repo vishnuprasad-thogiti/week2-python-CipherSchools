{
 "cells": [
  {
   "cell_type": "markdown",
   "id": "e28bb2e1",
   "metadata": {},
   "source": [
    "# lambda expressions\n"
   ]
  },
  {
   "cell_type": "code",
   "execution_count": 1,
   "id": "def177f2",
   "metadata": {},
   "outputs": [
    {
     "data": {
      "text/plain": [
       "<function __main__.<lambda>(a, b)>"
      ]
     },
     "execution_count": 1,
     "metadata": {},
     "output_type": "execute_result"
    }
   ],
   "source": [
    "lambda a, b: a + b"
   ]
  },
  {
   "cell_type": "code",
   "execution_count": 2,
   "id": "ebf6d6d0",
   "metadata": {},
   "outputs": [
    {
     "name": "stdout",
     "output_type": "stream",
     "text": [
      "Hello World\n"
     ]
    }
   ],
   "source": [
    "print(\"Hello World\")"
   ]
  },
  {
   "cell_type": "code",
   "execution_count": 3,
   "id": "7f435a36",
   "metadata": {},
   "outputs": [
    {
     "name": "stdout",
     "output_type": "stream",
     "text": [
      "something\n"
     ]
    }
   ],
   "source": [
    "show = print\n",
    "show(\"something\")"
   ]
  },
  {
   "cell_type": "code",
   "execution_count": 5,
   "id": "43e0afae",
   "metadata": {},
   "outputs": [
    {
     "name": "stdout",
     "output_type": "stream",
     "text": [
      "kong\n",
      "king\n",
      "money\n"
     ]
    }
   ],
   "source": [
    "names = [\"kong\", \"king\", \"money\"]\n",
    "for name in names:\n",
    "  print(name)"
   ]
  },
  {
   "cell_type": "code",
   "execution_count": 6,
   "id": "e7d888a9",
   "metadata": {},
   "outputs": [
    {
     "name": "stdout",
     "output_type": "stream",
     "text": [
      "(0, 'kong')\n",
      "(1, 'king')\n",
      "(2, 'money')\n"
     ]
    }
   ],
   "source": [
    "names = [\"kong\", \"king\", \"money\"]\n",
    "for name in enumerate(names):\n",
    "  print(name)"
   ]
  },
  {
   "cell_type": "code",
   "execution_count": 7,
   "id": "da7a6ad0",
   "metadata": {},
   "outputs": [
    {
     "ename": "SyntaxError",
     "evalue": "invalid syntax (3297199670.py, line 1)",
     "output_type": "error",
     "traceback": [
      "\u001b[1;36m  Cell \u001b[1;32mIn [7], line 1\u001b[1;36m\u001b[0m\n\u001b[1;33m    int a[] = {1, 2, 3}\u001b[0m\n\u001b[1;37m        ^\u001b[0m\n\u001b[1;31mSyntaxError\u001b[0m\u001b[1;31m:\u001b[0m invalid syntax\n"
     ]
    }
   ],
   "source": [
    "int a[] = {1, 2, 3}"
   ]
  },
  {
   "cell_type": "code",
   "execution_count": 8,
   "id": "ea4c346d",
   "metadata": {},
   "outputs": [],
   "source": [
    "a = 5\n",
    "b = 9\n"
   ]
  },
  {
   "cell_type": "code",
   "execution_count": null,
   "id": "bdee62a6",
   "metadata": {},
   "outputs": [],
   "source": []
  }
 ],
 "metadata": {
  "kernelspec": {
   "display_name": "Python 3 (ipykernel)",
   "language": "python",
   "name": "python3"
  },
  "language_info": {
   "codemirror_mode": {
    "name": "ipython",
    "version": 3
   },
   "file_extension": ".py",
   "mimetype": "text/x-python",
   "name": "python",
   "nbconvert_exporter": "python",
   "pygments_lexer": "ipython3",
   "version": "3.10.7"
  }
 },
 "nbformat": 4,
 "nbformat_minor": 5
}
