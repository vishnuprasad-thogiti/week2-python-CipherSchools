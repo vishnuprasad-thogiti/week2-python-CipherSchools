{
 "cells": [
  {
   "cell_type": "markdown",
   "id": "43b8a1aa",
   "metadata": {},
   "source": [
    "#keyword arguments\n"
   ]
  },
  {
   "cell_type": "code",
   "execution_count": 1,
   "id": "46863d7f",
   "metadata": {},
   "outputs": [
    {
     "name": "stdout",
     "output_type": "stream",
     "text": [
      "1,2,3,4,5\n"
     ]
    }
   ],
   "source": [
    "print(1, 2, 3, 4, 5, sep = \",\")\n"
   ]
  },
  {
   "cell_type": "code",
   "execution_count": 2,
   "id": "f752613a",
   "metadata": {},
   "outputs": [
    {
     "name": "stdout",
     "output_type": "stream",
     "text": [
      "1,2,3,4,5\n"
     ]
    }
   ],
   "source": [
    "print(1, 2, 3, 4, 5, sep = \",\")\n",
    "def func(a,b,c):\n",
    "    print(a)\n",
    "    print(b)\n",
    "    print(c)"
   ]
  },
  {
   "cell_type": "code",
   "execution_count": 3,
   "id": "7ed54ba8",
   "metadata": {},
   "outputs": [
    {
     "name": "stdout",
     "output_type": "stream",
     "text": [
      "a is 3 and b is 7 and c is 10\n",
      "a is 25 and b is 5 and c is 24\n",
      "a is 100 and b is 5 and c is 50\n"
     ]
    }
   ],
   "source": [
    "def func(a, b=5, c=10):\n",
    "  print('a is', a, 'and b is', b, 'and c is', c)\n",
    "\n",
    "func(3, 7)\n",
    "func(25, c=24)\n",
    "func(c=50, a=100)"
   ]
  },
  {
   "cell_type": "code",
   "execution_count": 4,
   "id": "e782e639",
   "metadata": {},
   "outputs": [],
   "source": [
    "def hello():\n",
    "  print(\"Hello World :\")"
   ]
  },
  {
   "cell_type": "code",
   "execution_count": 5,
   "id": "bdfac03c",
   "metadata": {},
   "outputs": [],
   "source": [
    "def hello():\n",
    "  print(\"Hello World :\")\n",
    "  return 1"
   ]
  },
  {
   "cell_type": "code",
   "execution_count": 6,
   "id": "83d86546",
   "metadata": {},
   "outputs": [
    {
     "ename": "SyntaxError",
     "evalue": "invalid syntax (3854588381.py, line 1)",
     "output_type": "error",
     "traceback": [
      "\u001b[1;36m  Cell \u001b[1;32mIn [6], line 1\u001b[1;36m\u001b[0m\n\u001b[1;33m    def func(a, b, = 10, c):\u001b[0m\n\u001b[1;37m                   ^\u001b[0m\n\u001b[1;31mSyntaxError\u001b[0m\u001b[1;31m:\u001b[0m invalid syntax\n"
     ]
    }
   ],
   "source": [
    "def func(a, b, = 10, c):\n",
    "  print(a, b, c)"
   ]
  },
  {
   "cell_type": "code",
   "execution_count": 7,
   "id": "6c4e3af2",
   "metadata": {},
   "outputs": [
    {
     "data": {
      "text/plain": [
       "'\\n**args **kwargs\\n'"
      ]
     },
     "execution_count": 7,
     "metadata": {},
     "output_type": "execute_result"
    }
   ],
   "source": [
    "'''\n",
    "**args **kwargs\n",
    "'''"
   ]
  },
  {
   "cell_type": "code",
   "execution_count": 8,
   "id": "4206ff5b",
   "metadata": {},
   "outputs": [
    {
     "name": "stdout",
     "output_type": "stream",
     "text": [
      "a is 1 and b is 5 and c is 5\n"
     ]
    }
   ],
   "source": [
    "func(1, c = 5)"
   ]
  },
  {
   "cell_type": "markdown",
   "id": "318f73a7",
   "metadata": {},
   "source": [
    "from ast import arguments\n",
    "Arguments in other languages\n",
    "- required arguments 'func(a)'\n",
    "-default arguments 'func(b=1)'\n",
    "\n",
    "arguments in python\n",
    "- required positional arguments\n",
    "- default positional arguments\n",
    "- optional arguments\n",
    "- required keyworded only arguments\n",
    "- default keyworded only arguments\n",
    "- optional keyworded only arguments"
   ]
  },
  {
   "cell_type": "code",
   "execution_count": 9,
   "id": "d655b61b",
   "metadata": {},
   "outputs": [],
   "source": [
    "def func(a, b):\n",
    "  print(a, b)"
   ]
  },
  {
   "cell_type": "code",
   "execution_count": 10,
   "id": "2d24f1bd",
   "metadata": {},
   "outputs": [],
   "source": [
    "def func(*a):\n",
    "  print(a)"
   ]
  },
  {
   "cell_type": "code",
   "execution_count": 11,
   "id": "0c774d67",
   "metadata": {},
   "outputs": [
    {
     "name": "stdout",
     "output_type": "stream",
     "text": [
      "(1, 2, 3, 4)\n"
     ]
    }
   ],
   "source": [
    "func(1, 2, 3, 4)"
   ]
  },
  {
   "cell_type": "code",
   "execution_count": 12,
   "id": "03feba09",
   "metadata": {},
   "outputs": [],
   "source": [
    "def func(a, b, *c, d):\n",
    "  print(a)\n",
    "  print(b)\n",
    "  print(c)\n",
    "  print(d) "
   ]
  },
  {
   "cell_type": "code",
   "execution_count": 13,
   "id": "217d658e",
   "metadata": {},
   "outputs": [
    {
     "name": "stdout",
     "output_type": "stream",
     "text": [
      "1\n",
      "2\n",
      "(3, 4, 5, 6, 7)\n",
      "8\n"
     ]
    }
   ],
   "source": [
    "func(1, 2, 3, 4, 5, 6, 7, d = 8)"
   ]
  },
  {
   "cell_type": "code",
   "execution_count": 14,
   "id": "eb1f3318",
   "metadata": {},
   "outputs": [
    {
     "ename": "TypeError",
     "evalue": "func() got an unexpected keyword argument 'name'",
     "output_type": "error",
     "traceback": [
      "\u001b[1;31m---------------------------------------------------------------------------\u001b[0m",
      "\u001b[1;31mTypeError\u001b[0m                                 Traceback (most recent call last)",
      "Cell \u001b[1;32mIn [14], line 1\u001b[0m\n\u001b[1;32m----> 1\u001b[0m \u001b[43mfunc\u001b[49m\u001b[43m(\u001b[49m\u001b[43mname\u001b[49m\u001b[43m \u001b[49m\u001b[38;5;241;43m=\u001b[39;49m\u001b[43m \u001b[49m\u001b[38;5;124;43m\"\u001b[39;49m\u001b[38;5;124;43mkong\u001b[39;49m\u001b[38;5;124;43m\"\u001b[39;49m\u001b[43m)\u001b[49m\n",
      "\u001b[1;31mTypeError\u001b[0m: func() got an unexpected keyword argument 'name'"
     ]
    }
   ],
   "source": [
    "func(name = \"kong\")"
   ]
  },
  {
   "cell_type": "code",
   "execution_count": 15,
   "id": "4453e7ad",
   "metadata": {},
   "outputs": [
    {
     "ename": "SyntaxError",
     "evalue": "invalid syntax (1480657388.py, line 1)",
     "output_type": "error",
     "traceback": [
      "\u001b[1;36m  Cell \u001b[1;32mIn [15], line 1\u001b[1;36m\u001b[0m\n\u001b[1;33m    def func(a, b = 1, *c, d, e = **, **k):\u001b[0m\n\u001b[1;37m                                  ^\u001b[0m\n\u001b[1;31mSyntaxError\u001b[0m\u001b[1;31m:\u001b[0m invalid syntax\n"
     ]
    }
   ],
   "source": [
    "def func(a, b = 1, *c, d, e = **, **k):\n",
    "  print(k)"
   ]
  },
  {
   "cell_type": "markdown",
   "id": "db4850da",
   "metadata": {},
   "source": [
    "#anonymous function or lambda functions\n"
   ]
  },
  {
   "cell_type": "code",
   "execution_count": 16,
   "id": "92720c1b",
   "metadata": {},
   "outputs": [
    {
     "data": {
      "text/plain": [
       "<function __main__.<lambda>(a, b)>"
      ]
     },
     "execution_count": 16,
     "metadata": {},
     "output_type": "execute_result"
    }
   ],
   "source": [
    "lambda a, b: a + b "
   ]
  },
  {
   "cell_type": "code",
   "execution_count": null,
   "id": "5b1cb267",
   "metadata": {},
   "outputs": [],
   "source": []
  }
 ],
 "metadata": {
  "kernelspec": {
   "display_name": "Python 3 (ipykernel)",
   "language": "python",
   "name": "python3"
  },
  "language_info": {
   "codemirror_mode": {
    "name": "ipython",
    "version": 3
   },
   "file_extension": ".py",
   "mimetype": "text/x-python",
   "name": "python",
   "nbconvert_exporter": "python",
   "pygments_lexer": "ipython3",
   "version": "3.10.7"
  }
 },
 "nbformat": 4,
 "nbformat_minor": 5
}
