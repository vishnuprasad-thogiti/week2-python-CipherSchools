{
 "cells": [
  {
   "cell_type": "markdown",
   "id": "243d35ac",
   "metadata": {},
   "source": [
    "# object oriented programming"
   ]
  },
  {
   "cell_type": "raw",
   "id": "77df222e",
   "metadata": {},
   "source": [
    "-Abstraction\n",
    "-Encapusulation\n",
    "-Polymorphism\n",
    "-Inheritance"
   ]
  },
  {
   "cell_type": "code",
   "execution_count": 1,
   "id": "ac214955",
   "metadata": {},
   "outputs": [],
   "source": [
    "student1 = {\n",
    "    \"name\": \"king\",\n",
    "    \"marks\": \"32\"\n",
    "}\n",
    "student2 = {\n",
    "    \"name\": \"kong\",\n",
    "    \"marks\": \"999\"\n",
    "}"
   ]
  },
  {
   "cell_type": "raw",
   "id": "7b28436c",
   "metadata": {},
   "source": [
    "Python object can have multiple attributes\n",
    "\n",
    "- callable (e.g. function and classes)\n",
    "- iterable (e.g. list, string, generator)\n",
    "-contextable (e.g. files)"
   ]
  },
  {
   "cell_type": "code",
   "execution_count": 2,
   "id": "30a3b993",
   "metadata": {},
   "outputs": [
    {
     "name": "stdout",
     "output_type": "stream",
     "text": [
      "<__main__.Person object at 0x000001A1C5645660>\n"
     ]
    }
   ],
   "source": [
    "class Person:\n",
    "  pass\n",
    "\n",
    "p = Person()\n",
    "print(p)"
   ]
  },
  {
   "cell_type": "code",
   "execution_count": 3,
   "id": "206fe078",
   "metadata": {},
   "outputs": [
    {
     "data": {
      "text/plain": [
       "'0x1a1c5645660'"
      ]
     },
     "execution_count": 3,
     "metadata": {},
     "output_type": "execute_result"
    }
   ],
   "source": [
    "hex(id(p))"
   ]
  },
  {
   "cell_type": "code",
   "execution_count": 4,
   "id": "7029a505",
   "metadata": {},
   "outputs": [],
   "source": [
    "a = 1\n",
    "def square(a):\n",
    "  print(a**2)"
   ]
  },
  {
   "cell_type": "code",
   "execution_count": 5,
   "id": "b3f26b43",
   "metadata": {},
   "outputs": [
    {
     "name": "stdout",
     "output_type": "stream",
     "text": [
      "Hello Everyone : I am {self.name}\n",
      "Hello Everyone : I am {self.name}\n"
     ]
    }
   ],
   "source": [
    "class Person:\n",
    "  def say_hi(self):\n",
    "    print(\"Hello Everyone : I am {self.name}\")\n",
    "\n",
    "p = Person()\n",
    "\n",
    "p.say_hi() # method call\n",
    "Person.say_hi(p) # function call"
   ]
  },
  {
   "cell_type": "code",
   "execution_count": null,
   "id": "d1ac05ed",
   "metadata": {},
   "outputs": [],
   "source": []
  }
 ],
 "metadata": {
  "kernelspec": {
   "display_name": "Python 3 (ipykernel)",
   "language": "python",
   "name": "python3"
  },
  "language_info": {
   "codemirror_mode": {
    "name": "ipython",
    "version": 3
   },
   "file_extension": ".py",
   "mimetype": "text/x-python",
   "name": "python",
   "nbconvert_exporter": "python",
   "pygments_lexer": "ipython3",
   "version": "3.10.7"
  }
 },
 "nbformat": 4,
 "nbformat_minor": 5
}
