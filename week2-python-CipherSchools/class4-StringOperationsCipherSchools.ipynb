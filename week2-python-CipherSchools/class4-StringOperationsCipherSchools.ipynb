{
 "cells": [
  {
   "cell_type": "markdown",
   "id": "f558285a",
   "metadata": {},
   "source": [
    "#data structures"
   ]
  },
  {
   "cell_type": "code",
   "execution_count": 1,
   "id": "ddcbb188",
   "metadata": {},
   "outputs": [
    {
     "name": "stdout",
     "output_type": "stream",
     "text": [
      "value of a is {}\n"
     ]
    }
   ],
   "source": [
    "a = 5\n",
    "print(\"value of a is {}\")"
   ]
  },
  {
   "cell_type": "code",
   "execution_count": 2,
   "id": "0ab187b9",
   "metadata": {},
   "outputs": [
    {
     "data": {
      "text/plain": [
       "'a = 1, b = 2, c = 3'"
      ]
     },
     "execution_count": 2,
     "metadata": {},
     "output_type": "execute_result"
    }
   ],
   "source": [
    "a, b, c, d = 1, 2, 3, 4\n",
    "\n",
    "\"a = {2}, b = {1}, c = {0}\".format(c, b, a)"
   ]
  },
  {
   "cell_type": "code",
   "execution_count": 3,
   "id": "9ac2cc75",
   "metadata": {},
   "outputs": [
    {
     "data": {
      "text/plain": [
       "'name = king company = kridh'"
      ]
     },
     "execution_count": 3,
     "metadata": {},
     "output_type": "execute_result"
    }
   ],
   "source": [
    "name = \"king\"\n",
    "company = \"kridh\"\n",
    "\"name = {name} company = {company}\".format(name = name, company = company)"
   ]
  },
  {
   "cell_type": "code",
   "execution_count": 4,
   "id": "b53f45c4",
   "metadata": {},
   "outputs": [
    {
     "name": "stdout",
     "output_type": "stream",
     "text": [
      "name = king\n"
     ]
    }
   ],
   "source": [
    "print(f\"name = {name}\")"
   ]
  },
  {
   "cell_type": "code",
   "execution_count": 5,
   "id": "acac719c",
   "metadata": {},
   "outputs": [
    {
     "data": {
      "text/plain": [
       "4"
      ]
     },
     "execution_count": 5,
     "metadata": {},
     "output_type": "execute_result"
    }
   ],
   "source": [
    "len(r\"a/nb\")"
   ]
  },
  {
   "cell_type": "code",
   "execution_count": 6,
   "id": "9e9ab584",
   "metadata": {},
   "outputs": [
    {
     "data": {
      "text/plain": [
       "'kong.'"
      ]
     },
     "execution_count": 6,
     "metadata": {},
     "output_type": "execute_result"
    }
   ],
   "source": [
    "\"      kong.      \".strip()"
   ]
  },
  {
   "cell_type": "code",
   "execution_count": 7,
   "id": "2111446a",
   "metadata": {},
   "outputs": [
    {
     "data": {
      "text/plain": [
       "'1, 2, 3, 4, 5'"
      ]
     },
     "execution_count": 7,
     "metadata": {},
     "output_type": "execute_result"
    }
   ],
   "source": [
    "\"1, 2, 3, 4, 5\".strip()"
   ]
  },
  {
   "cell_type": "code",
   "execution_count": 8,
   "id": "aa7678e8",
   "metadata": {},
   "outputs": [
    {
     "data": {
      "text/plain": [
       "'kzng kong'"
      ]
     },
     "execution_count": 8,
     "metadata": {},
     "output_type": "execute_result"
    }
   ],
   "source": [
    "\"king kong\".replace(\"i\",\"z\")"
   ]
  },
  {
   "cell_type": "code",
   "execution_count": null,
   "id": "0ef9df18",
   "metadata": {},
   "outputs": [],
   "source": []
  }
 ],
 "metadata": {
  "kernelspec": {
   "display_name": "Python 3 (ipykernel)",
   "language": "python",
   "name": "python3"
  },
  "language_info": {
   "codemirror_mode": {
    "name": "ipython",
    "version": 3
   },
   "file_extension": ".py",
   "mimetype": "text/x-python",
   "name": "python",
   "nbconvert_exporter": "python",
   "pygments_lexer": "ipython3",
   "version": "3.10.7"
  }
 },
 "nbformat": 4,
 "nbformat_minor": 5
}
