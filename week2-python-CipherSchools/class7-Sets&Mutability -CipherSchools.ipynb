{
 "cells": [
  {
   "cell_type": "markdown",
   "id": "00ecb28e",
   "metadata": {},
   "source": [
    "# sets and the concept of mutability"
   ]
  },
  {
   "cell_type": "raw",
   "id": "d7b6b0e8",
   "metadata": {},
   "source": [
    "lists ->ordered and can be indexed using positions\n",
    "dicts->unordered and can be indexed using keys\n",
    "sets->unordered and cannot be indexed"
   ]
  },
  {
   "cell_type": "code",
   "execution_count": 1,
   "id": "cdfbd070",
   "metadata": {},
   "outputs": [
    {
     "data": {
      "text/plain": [
       "set"
      ]
     },
     "execution_count": 1,
     "metadata": {},
     "output_type": "execute_result"
    }
   ],
   "source": [
    "a = {1, 2, 3, 4}\n",
    "type(a)"
   ]
  },
  {
   "cell_type": "code",
   "execution_count": 2,
   "id": "02f74ec7",
   "metadata": {},
   "outputs": [
    {
     "data": {
      "text/plain": [
       "[1, 2, 3, 4]"
      ]
     },
     "execution_count": 2,
     "metadata": {},
     "output_type": "execute_result"
    }
   ],
   "source": [
    "list(a)"
   ]
  },
  {
   "cell_type": "code",
   "execution_count": 3,
   "id": "413047f6",
   "metadata": {},
   "outputs": [
    {
     "name": "stdout",
     "output_type": "stream",
     "text": [
      "1\n",
      "2\n",
      "3\n",
      "4\n"
     ]
    }
   ],
   "source": [
    "for i in a:\n",
    "  print(i)"
   ]
  },
  {
   "cell_type": "code",
   "execution_count": 4,
   "id": "a2f2e869",
   "metadata": {},
   "outputs": [
    {
     "data": {
      "text/plain": [
       "{1, 2}"
      ]
     },
     "execution_count": 4,
     "metadata": {},
     "output_type": "execute_result"
    }
   ],
   "source": [
    "a = {1, 2, 3, 4}\n",
    "b = {3, 4, 5, 6}\n",
    "a - b"
   ]
  },
  {
   "cell_type": "code",
   "execution_count": 5,
   "id": "352d05c6",
   "metadata": {},
   "outputs": [
    {
     "data": {
      "text/plain": [
       "{1, 2, 3, 4, 5, 6}"
      ]
     },
     "execution_count": 5,
     "metadata": {},
     "output_type": "execute_result"
    }
   ],
   "source": [
    "a.union(b)"
   ]
  },
  {
   "cell_type": "code",
   "execution_count": 6,
   "id": "8d070522",
   "metadata": {},
   "outputs": [
    {
     "data": {
      "text/plain": [
       "[['', 'X', ''], ['', 'X', ''], ['', 'X', '']]"
      ]
     },
     "execution_count": 6,
     "metadata": {},
     "output_type": "execute_result"
    }
   ],
   "source": [
    "a = [[''] * 3] * 3\n",
    "a[1][1] = 'X'\n",
    "a"
   ]
  },
  {
   "cell_type": "code",
   "execution_count": 7,
   "id": "9bc3cc96",
   "metadata": {},
   "outputs": [
    {
     "name": "stdout",
     "output_type": "stream",
     "text": [
      "1935339351856\n",
      "1935339351856\n",
      "1935339351856\n"
     ]
    }
   ],
   "source": [
    "print(id(a[0][1]))\n",
    "print(id(a[1][1]))\n",
    "print(id(a[2][1]))"
   ]
  },
  {
   "cell_type": "code",
   "execution_count": 8,
   "id": "b0c9b948",
   "metadata": {},
   "outputs": [
    {
     "data": {
      "text/plain": [
       "1935337783536"
      ]
     },
     "execution_count": 8,
     "metadata": {},
     "output_type": "execute_result"
    }
   ],
   "source": [
    "a = [1, 2, 3, 4, 5]\n",
    "id(1)"
   ]
  },
  {
   "cell_type": "code",
   "execution_count": 9,
   "id": "1ea5c7e5",
   "metadata": {},
   "outputs": [
    {
     "data": {
      "text/plain": [
       "1935337783568"
      ]
     },
     "execution_count": 9,
     "metadata": {},
     "output_type": "execute_result"
    }
   ],
   "source": [
    "id(2)"
   ]
  },
  {
   "cell_type": "code",
   "execution_count": 10,
   "id": "a5761d93",
   "metadata": {},
   "outputs": [
    {
     "data": {
      "text/plain": [
       "1935337783600"
      ]
     },
     "execution_count": 10,
     "metadata": {},
     "output_type": "execute_result"
    }
   ],
   "source": [
    "id(3)"
   ]
  },
  {
   "cell_type": "code",
   "execution_count": 11,
   "id": "66fca3df",
   "metadata": {},
   "outputs": [],
   "source": [
    "class Student:\n",
    "  name = \"kong\"\n",
    "  marks = 00"
   ]
  },
  {
   "cell_type": "code",
   "execution_count": 12,
   "id": "3f6b6b21",
   "metadata": {},
   "outputs": [
    {
     "name": "stdout",
     "output_type": "stream",
     "text": [
      "True\n",
      "False\n"
     ]
    }
   ],
   "source": [
    "a = 258\n",
    "b = 258\n",
    "\n",
    "print(a == b)\n",
    "print(a is b)"
   ]
  },
  {
   "cell_type": "code",
   "execution_count": null,
   "id": "5aa57e7b",
   "metadata": {},
   "outputs": [],
   "source": [
    "a = (1, 2, 3)\n",
    "hash(a)"
   ]
  }
 ],
 "metadata": {
  "kernelspec": {
   "display_name": "Python 3 (ipykernel)",
   "language": "python",
   "name": "python3"
  },
  "language_info": {
   "codemirror_mode": {
    "name": "ipython",
    "version": 3
   },
   "file_extension": ".py",
   "mimetype": "text/x-python",
   "name": "python",
   "nbconvert_exporter": "python",
   "pygments_lexer": "ipython3",
   "version": "3.10.7"
  }
 },
 "nbformat": 4,
 "nbformat_minor": 5
}
