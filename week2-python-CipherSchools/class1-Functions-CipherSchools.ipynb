{
 "cells": [
  {
   "cell_type": "markdown",
   "id": "2aa10122",
   "metadata": {},
   "source": [
    "# 4.Functions\n"
   ]
  },
  {
   "cell_type": "code",
   "execution_count": 1,
   "id": "bc81359a",
   "metadata": {},
   "outputs": [],
   "source": [
    "x = 6\n",
    "x = 'king'\n",
    "x = 1.5\n",
    "x = print"
   ]
  },
  {
   "cell_type": "code",
   "execution_count": 2,
   "id": "329ee70c",
   "metadata": {},
   "outputs": [],
   "source": [
    "x = 6\n",
    "x = 'king'\n",
    "x = 1.5\n",
    "x = print"
   ]
  },
  {
   "cell_type": "code",
   "execution_count": null,
   "id": "45fe9a02",
   "metadata": {},
   "outputs": [],
   "source": [
    "a = 5\n",
    "b = 7\n",
    "\n",
    "print(a + b)\n",
    "show_loading()\n",
    "\n",
    "print(a-b)\n",
    "show_loading()\n",
    "\n",
    "print(a*b)\n",
    "show_loading()\n"
   ]
  },
  {
   "cell_type": "markdown",
   "id": "118372dd",
   "metadata": {},
   "source": [
    "# Function can take parameters"
   ]
  },
  {
   "cell_type": "code",
   "execution_count": null,
   "id": "6a519884",
   "metadata": {},
   "outputs": [],
   "source": [
    "def sheldon_knock(name):\n",
    "    for _ in range(3):\n",
    "        print(\"knock knock knock\", name)"
   ]
  },
  {
   "cell_type": "code",
   "execution_count": null,
   "id": "e85fcc55",
   "metadata": {},
   "outputs": [],
   "source": [
    "sheldon_knock(\"leonard\")"
   ]
  },
  {
   "cell_type": "code",
   "execution_count": null,
   "id": "b6e7f57c",
   "metadata": {},
   "outputs": [],
   "source": [
    "def sheldon_knock(name, times = 3):\n",
    "    for _ in range(times):\n",
    "        print(\"knock knock knock\", name)"
   ]
  },
  {
   "cell_type": "markdown",
   "id": "cd3a68f1",
   "metadata": {},
   "source": [
    "# return statement"
   ]
  },
  {
   "cell_type": "code",
   "execution_count": null,
   "id": "222932e1",
   "metadata": {},
   "outputs": [],
   "source": [
    "def add(a,b):\n",
    "    return a + b"
   ]
  },
  {
   "cell_type": "code",
   "execution_count": null,
   "id": "36b4266b",
   "metadata": {},
   "outputs": [],
   "source": [
    "a = add(1 ,2)\n"
   ]
  },
  {
   "cell_type": "code",
   "execution_count": null,
   "id": "2956c7e9",
   "metadata": {},
   "outputs": [],
   "source": [
    "print(a)"
   ]
  },
  {
   "cell_type": "code",
   "execution_count": null,
   "id": "9d2e8104",
   "metadata": {},
   "outputs": [],
   "source": []
  }
 ],
 "metadata": {
  "kernelspec": {
   "display_name": "Python 3 (ipykernel)",
   "language": "python",
   "name": "python3"
  },
  "language_info": {
   "codemirror_mode": {
    "name": "ipython",
    "version": 3
   },
   "file_extension": ".py",
   "mimetype": "text/x-python",
   "name": "python",
   "nbconvert_exporter": "python",
   "pygments_lexer": "ipython3",
   "version": "3.10.7"
  }
 },
 "nbformat": 4,
 "nbformat_minor": 5
}
